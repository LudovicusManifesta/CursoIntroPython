{
 "cells": [
  {
   "cell_type": "markdown",
   "metadata": {},
   "source": [
    "## Ejercicio: Uso de funciones en Python"
   ]
  },
  {
   "cell_type": "markdown",
   "metadata": {},
   "source": [
    "### Ejercicio 1: Trabajar con argumentos en funciones\n",
    "\n",
    "En este ejercicio, construirás un informe de combustible que requiere información de varias ubicaciones de combustible en todo el cohete.\n",
    "\n",
    "Comienza por crear una función que necesite tres lecturas de combustible y devuelva un informe:"
   ]
  },
  {
   "cell_type": "code",
   "execution_count": 7,
   "metadata": {},
   "outputs": [],
   "source": [
    "# Función para leer 3 tanques de combustible y muestre el promedio\n",
    "\n",
    "def reporte_combustible(tanque_1, tanque_2, tanque_3):\n",
    "    promedio = (tanque_1 + tanque_2 + tanque_3) / 3\n",
    "    return f\"\"\"Reporte de Combustible:\n",
    "    Promedio Total {promedio}%\n",
    "    Tanque 1: {tanque_1}%\n",
    "    Tanque 2: {tanque_2}%\n",
    "    Tanque 3: {tanque_3}%\n",
    "    \"\"\""
   ]
  },
  {
   "cell_type": "markdown",
   "metadata": {},
   "source": [
    "Ahora que hemos definido la función de informes, vamos a comprobarlo. Para esta misión, los tanques no están llenos:"
   ]
  },
  {
   "cell_type": "code",
   "execution_count": 8,
   "metadata": {},
   "outputs": [
    {
     "name": "stdout",
     "output_type": "stream",
     "text": [
      "Reporte de Combustible:\n",
      "    Promedio Total 0.0%\n",
      "    Tanque 1: 0%\n",
      "    Tanque 2: 0%\n",
      "    Tanque 3: 0%\n",
      "    \n"
     ]
    }
   ],
   "source": [
    "# Llamamos a la función que genera el reporte print(funcion(tanque1, tanque2, tanque3))\n",
    "\n",
    "print(reporte_combustible(0,0,0))"
   ]
  },
  {
   "cell_type": "markdown",
   "metadata": {},
   "source": [
    "En lugar de simplemente crear el informe, la función también está calculando el promedio. Mejora la legibilidad extrayendo el cálculo promedio de la función en una nueva función para que el promedio se pueda hacer de forma independiente:"
   ]
  },
  {
   "cell_type": "code",
   "execution_count": 10,
   "metadata": {},
   "outputs": [
    {
     "data": {
      "text/plain": [
       "51.666666666666664"
      ]
     },
     "execution_count": 10,
     "metadata": {},
     "output_type": "execute_result"
    }
   ],
   "source": [
    "# Función para calcular el promedio \n",
    "def promedio(c):\n",
    "    total = sum(c)\n",
    "    n = len(c)\n",
    "    return total / n\n",
    "\n",
    "# Imprimir función promedio\n",
    "promedio([96, 47, 12]) "
   ]
  },
  {
   "cell_type": "markdown",
   "metadata": {},
   "source": [
    "### Ejercicio 2: Trabajo con argumentos de palabra clave"
   ]
  },
  {
   "cell_type": "markdown",
   "metadata": {},
   "source": [
    "#### Ejercicio : Trabajar con argumentos de palabras clave en funciones\n",
    "\n",
    "En este ejercicio, construirás un informe de cohete que requiere varias piezas de información, como el tiempo hasta el destino, el combustible a la izquierda y el nombre del destino. Comienza por crear una función que creará un informe preciso de la misión:"
   ]
  },
  {
   "cell_type": "code",
   "execution_count": 11,
   "metadata": {},
   "outputs": [
    {
     "name": "stdout",
     "output_type": "stream",
     "text": [
      "\n",
      "    Mision con destino a Júpiter\n",
      "    Tiempo total de vuelo: 35 minutos\n",
      "    Combustible: 42210 galones\n",
      "    \n"
     ]
    }
   ],
   "source": [
    "# Función con un informe preciso de la misión. Considera hora de prelanzamiento, tiempo de vuelo, destino, tanque externo y tanque interno\n",
    "\n",
    "def informe_total(t_prelanzamiento, t_vuelo, destino, tanque_e, tanque_i):\n",
    "    return f\"\"\"\n",
    "    Mision con destino a {destino}\n",
    "    Tiempo total de vuelo: {t_vuelo + t_prelanzamiento} minutos\n",
    "    Combustible: {tanque_e + tanque_i} galones\n",
    "    \"\"\"\n",
    "\n",
    "print(informe_total(10,25,\"Júpiter\",9556,32654))\n"
   ]
  },
  {
   "cell_type": "markdown",
   "metadata": {},
   "source": [
    "La función es problemática porque no se puede adaptar para minutos adicionales o tanques adicionales de combustible. Hazlo más flexible permitiendo cualquier número de pasos basados en el tiempo y cualquier número de tanques. En lugar de usar *args y **kwargs, aprovecha el hecho de que puedes usar cualquier nombre que desees. \n",
    "\n",
    "Asegurate que la función sea más legible mediante el uso de nombres de variables que están asociados con las entradas, como *minutes y **fuel_reservoirs:"
   ]
  },
  {
   "cell_type": "code",
   "execution_count": 12,
   "metadata": {},
   "outputs": [
    {
     "name": "stdout",
     "output_type": "stream",
     "text": [
      "\n",
      "    Mision con destino a Marte\n",
      "    Tiempo total de vuelo: 40 minutos\n",
      "    Combustible: 654472 galones\n",
      "    \n"
     ]
    }
   ],
   "source": [
    "def informe_total(destino, *minutes, **fuel):\n",
    "    return f\"\"\"\n",
    "    Mision con destino a {destino}\n",
    "    Tiempo total de vuelo: {sum(minutes)} minutos\n",
    "    Combustible: {sum(fuel.values())} galones\n",
    "    \"\"\"\n",
    "\n",
    "print(informe_total(\"Marte\", 25, 10, 5, e = 1258, i = 653214))"
   ]
  },
  {
   "cell_type": "markdown",
   "metadata": {},
   "source": [
    "Debido a que el combustible que queda en los tanques es específico de cada tanque, actualiza la función para usar el nombre de cada tanque en el informe:"
   ]
  },
  {
   "cell_type": "code",
   "execution_count": 15,
   "metadata": {},
   "outputs": [
    {
     "name": "stdout",
     "output_type": "stream",
     "text": [
      "\n",
      "    Mision con destino a Marte\n",
      "    Tiempo total de vuelo: 40 minutos\n",
      "    Combustible: 654472 galones\n",
      "    \tTanque Externo --> Quedan 1258 galones\n",
      "\tTanque Interno --> Quedan 653214 galones\n",
      "\n"
     ]
    }
   ],
   "source": [
    "def informe_total(destino, *minutes, **fuel):\n",
    "    reporte = f\"\"\"\n",
    "    Mision con destino a {destino}\n",
    "    Tiempo total de vuelo: {sum(minutes)} minutos\n",
    "    Combustible: {sum(fuel.values())} galones\n",
    "    \"\"\"\n",
    "    for tanque_tipo, galones in fuel.items():\n",
    "        reporte += f\"\\tTanque {tanque_tipo} --> Quedan {galones} galones\\n\"\n",
    "    return reporte\n",
    "\n",
    "\n",
    "print(informe_total(\"Marte\", 25, 10, 5, Externo = 1258, Interno = 653214))"
   ]
  }
 ],
 "metadata": {
  "interpreter": {
   "hash": "2e3c1e8da6e821b0193601da5a0e541c0efda9704da45b6b820f5f4c317f2def"
  },
  "kernelspec": {
   "display_name": "Python 3.9.5 64-bit",
   "language": "python",
   "name": "python3"
  },
  "language_info": {
   "codemirror_mode": {
    "name": "ipython",
    "version": 3
   },
   "file_extension": ".py",
   "mimetype": "text/x-python",
   "name": "python",
   "nbconvert_exporter": "python",
   "pygments_lexer": "ipython3",
   "version": "3.9.5"
  },
  "orig_nbformat": 4
 },
 "nbformat": 4,
 "nbformat_minor": 2
}
