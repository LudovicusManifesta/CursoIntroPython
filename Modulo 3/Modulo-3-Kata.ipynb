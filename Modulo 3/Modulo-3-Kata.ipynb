{
 "cells": [
  {
   "cell_type": "markdown",
   "metadata": {},
   "source": [
    "<h2> Ejercicio - Escribir declaraciones if, else y elif </h2>\n",
    "\n",
    "Para este ejercicio, escribirás una lógica condicional que imprima una advertencia si un asteroide se acerca a la Tierra demasiado rápido. La velocidad del asteroide varía dependiendo de lo cerca que esté del sol, y cualquier velocidad superior a 25 kilómetros por segundo (km/s) merece una advertencia.\n",
    "\n",
    "Un asteroide se acerca, y viaja a una velocidad de 49 km/s."
   ]
  },
  {
   "cell_type": "code",
   "execution_count": 1,
   "metadata": {},
   "outputs": [
    {
     "name": "stdout",
     "output_type": "stream",
     "text": [
      "¡ALERTA!, Se aproxima un asteroide a más de 25 km/s.\n"
     ]
    }
   ],
   "source": [
    "velocidad = 49\n",
    "\n",
    "if velocidad > 25:\n",
    "    print(\"¡ALERTA!, Se aproxima un asteroide a más de 25 km/s.\")\n",
    "elif velocidad <= 25:\n",
    "    print(\"¡Miren!, hay algo en el cielo.\")\n",
    "else:\n",
    "    print(\"Todo en paz, hermanos.\")"
   ]
  },
  {
   "cell_type": "markdown",
   "metadata": {},
   "source": [
    "<h2>Ejercicio: Uso de operadores and y or</h2>\n",
    "\n",
    "Escribe un programa que emita la advertencia o información correcta a la gente de la Tierra, según la velocidad y el tamaño de un asteroide. Utiliza instrucciones if, else, y elif, así como los operadores and y or."
   ]
  },
  {
   "cell_type": "code",
   "execution_count": 3,
   "metadata": {},
   "outputs": [
    {
     "name": "stdout",
     "output_type": "stream",
     "text": [
      "¡Alerta!, se acerca un asteroide crítico a la Tierra.\n"
     ]
    }
   ],
   "source": [
    "velocidad = 49\n",
    "tam_ast = 26\n",
    "\n",
    "if velocidad > 25 and tam_ast > 25:\n",
    "    print(\"¡Alerta!, se acerca un asteroide crítico a la Tierra.\")\n",
    "elif velocidad >= 25:\n",
    "    print(\"¡Miren!, hay algo en el cielo.\")\n",
    "elif tam_ast < 25:\n",
    "    print(\"Todo en paz, hermanos.\")\n",
    "else:\n",
    "    print(\"Todo en paz, hermanos.\")"
   ]
  }
 ],
 "metadata": {
  "interpreter": {
   "hash": "2e3c1e8da6e821b0193601da5a0e541c0efda9704da45b6b820f5f4c317f2def"
  },
  "kernelspec": {
   "display_name": "Python 3.9.5 64-bit",
   "language": "python",
   "name": "python3"
  },
  "language_info": {
   "codemirror_mode": {
    "name": "ipython",
    "version": 3
   },
   "file_extension": ".py",
   "mimetype": "text/x-python",
   "name": "python",
   "nbconvert_exporter": "python",
   "pygments_lexer": "ipython3",
   "version": "3.9.5"
  },
  "orig_nbformat": 4
 },
 "nbformat": 4,
 "nbformat_minor": 2
}
